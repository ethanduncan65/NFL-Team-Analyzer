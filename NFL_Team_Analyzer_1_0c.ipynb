{
  "nbformat": 4,
  "nbformat_minor": 0,
  "metadata": {
    "colab": {
      "name": "NFL Team Analyzer 1.0c.ipynb",
      "private_outputs": true,
      "provenance": [],
      "collapsed_sections": [],
      "authorship_tag": "ABX9TyM2noYgxvbEEec5z5Za5Gh7",
      "include_colab_link": true
    },
    "kernelspec": {
      "name": "python3",
      "display_name": "Python 3"
    },
    "language_info": {
      "name": "python"
    }
  },
  "cells": [
    {
      "cell_type": "markdown",
      "metadata": {
        "id": "view-in-github",
        "colab_type": "text"
      },
      "source": [
        "<a href=\"https://colab.research.google.com/github/ethanduncan65/NFL-Team-Analyzer/blob/main/NFL_Team_Analyzer_1_0c.ipynb\" target=\"_parent\"><img src=\"https://colab.research.google.com/assets/colab-badge.svg\" alt=\"Open In Colab\"/></a>"
      ]
    },
    {
      "cell_type": "markdown",
      "metadata": {
        "id": "j_QP5YL2WxZy"
      },
      "source": [
        "NFL Team Analyzer 1.0c - Points Allowed "
      ]
    },
    {
      "cell_type": "code",
      "metadata": {
        "id": "Aak9WMbVAJo8",
        "cellView": "form"
      },
      "source": [
        "# Import dependencies & request file for upload\n",
        "from google.colab import files\n",
        "import io\n",
        "import pandas as pd\n",
        "\n",
        "\n",
        "\n",
        "uploaded = files.upload()\n",
        "# Parse out the uploaded file and convert to a pandas dataframe\n",
        "s = uploaded.keys()\n",
        "s1 = str(s)[12:]\n",
        "s2 = s1[:-3]\n",
        "df_seasonLog = pd.read_csv(io.BytesIO(uploaded[s2]))\n",
        "\n",
        "\n",
        "# remove duplicates to create list of all teams\n",
        "teams = list(set(df_seasonLog['Opp']))\n",
        "# create df for team averages\n",
        "df_ptsAllowed = pd.DataFrame(columns = ['Team', 'Total Pts', 'QB Pts', 'RB Pts', 'WR Pts', 'TE Pts'],  index = range(0, len(teams)))\n",
        "\n",
        "# calculate averages for each team \n",
        "for t in range(0,len(teams)):\n",
        "  df_t_team = df_seasonLog[df_seasonLog.Opp==teams[t]]\n",
        "  #t_avg_qb_pts = df_t_team['QB Pts'].mean()\n",
        "\n",
        "  df_ptsAllowed.at[t, 'Team'] = teams[t]\n",
        "  # load the team averages into df_ptsAllowed\n",
        "  df_ptsAllowed.at[t, 'Total Pts'] = df_t_team['Total Pts'].mean() \n",
        "  df_ptsAllowed.at[t, 'QB Pts'] = df_t_team['QB Pts'].mean() \n",
        "  df_ptsAllowed.at[t, 'RB Pts'] = df_t_team['RB Pts'].mean() \n",
        "  df_ptsAllowed.at[t, 'WR Pts'] = df_t_team['WR Pts'].mean() \n",
        "  df_ptsAllowed.at[t, 'TE Pts'] = df_t_team['TE Pts'].mean()\n",
        "\n",
        "df_ptsAllowed_sorted = df_ptsAllowed.sort_values('Team', ascending=True)\n",
        "df_ptsAllowed_sorted_ri = df_ptsAllowed_sorted.reset_index()\n",
        "\n",
        "# calculate grand averages\n",
        "total_ptsAllowed_avg = df_ptsAllowed_sorted_ri['Total Pts'].mean() \n",
        "qb_ptsAllowed_avg = df_ptsAllowed_sorted_ri['QB Pts'].mean() \n",
        "rb_ptsAllowed_avg = df_ptsAllowed_sorted_ri['RB Pts'].mean() \n",
        "wr_ptsAllowed_avg = df_ptsAllowed_sorted_ri['WR Pts'].mean() \n",
        "te_ptsAllowed_avg = df_ptsAllowed_sorted_ri['TE Pts'].mean() \n",
        "\n",
        "\n",
        "# standardize the points ...\n",
        "df_ptsAllowed_std = pd.DataFrame(columns = ['Team', 'Total Pts', 'QB Pts', 'RB Pts', 'WR Pts', 'TE Pts'],  index = range(0, len(df_ptsAllowed_sorted_ri)))\n",
        "\n",
        "for k in range(0, len(df_ptsAllowed_sorted_ri)):\n",
        "  # add team name\n",
        "  df_ptsAllowed_std.at[k, 'Team'] = df_ptsAllowed_sorted_ri.iloc[k]['Team']\n",
        "  # total points\n",
        "  total_ptsAllowed_std = ((df_ptsAllowed_sorted_ri.iloc[k]['Total Pts'] - total_ptsAllowed_avg)/total_ptsAllowed_avg)*100\n",
        "  df_ptsAllowed_std.at[k, 'Total Pts'] = total_ptsAllowed_std\n",
        "  # qb points\n",
        "  qb_ptsAllowed_std = ((df_ptsAllowed_sorted_ri.iloc[k]['QB Pts'] - qb_ptsAllowed_avg)/qb_ptsAllowed_avg)*100\n",
        "  df_ptsAllowed_std.at[k, 'QB Pts'] = qb_ptsAllowed_std\n",
        "  # rb points\n",
        "  rb_ptsAllowed_std = ((df_ptsAllowed_sorted_ri.iloc[k]['RB Pts'] - rb_ptsAllowed_avg)/rb_ptsAllowed_avg)*100\n",
        "  df_ptsAllowed_std.at[k, 'RB Pts'] = rb_ptsAllowed_std\n",
        "  # wr points\n",
        "  wr_ptsAllowed_std = ((df_ptsAllowed_sorted_ri.iloc[k]['WR Pts'] - wr_ptsAllowed_avg)/wr_ptsAllowed_avg)*100\n",
        "  df_ptsAllowed_std.at[k, 'WR Pts'] = wr_ptsAllowed_std\n",
        "  # te points\n",
        "  te_ptsAllowed_std = ((df_ptsAllowed_sorted_ri.iloc[k]['TE Pts'] - te_ptsAllowed_avg)/te_ptsAllowed_avg)*100\n",
        "  df_ptsAllowed_std.at[k, 'TE Pts'] = te_ptsAllowed_std\n",
        "\n",
        "# clean the df's prior to downlaod\n",
        "df_ptsAllowed_final = df_ptsAllowed_sorted_ri.drop(columns='index')\n",
        "\n",
        "# download the df's as .csv files\n",
        "#@title Download the data to .csv files\n",
        "Format = \"Standard\" #@param [\"Standard\", \"Half-PPR\", \"Full-PPR\"] \n",
        "df_ptsAllowed_final.to_csv(Format + ' - Points Allowed_raw.csv', index=False)\n",
        "df_ptsAllowed_std.to_csv(Format + ' - Points Allowed_std.csv', index=False)"
      ],
      "execution_count": null,
      "outputs": []
    },
    {
      "cell_type": "code",
      "metadata": {
        "id": "OOtXBVZ8XJmO"
      },
      "source": [
        "# display grand averages\n",
        "print(\"Total Points avg:   \", round(total_ptsAllowed_avg, 2))\n",
        "print(\"QB Points avg:      \", round(qb_ptsAllowed_avg, 2))\n",
        "print(\"RB Points avg:      \", round(rb_ptsAllowed_avg, 2))\n",
        "print(\"WR Points avg:      \", round(wr_ptsAllowed_avg, 2))\n",
        "print(\"TE Points avg:      \", round(te_ptsAllowed_avg, 2))"
      ],
      "execution_count": null,
      "outputs": []
    }
  ]
}