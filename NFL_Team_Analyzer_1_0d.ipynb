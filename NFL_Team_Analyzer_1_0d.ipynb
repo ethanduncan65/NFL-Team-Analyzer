{
  "nbformat": 4,
  "nbformat_minor": 0,
  "metadata": {
    "colab": {
      "name": "NFL Team Analyzer 1.0d.ipynb",
      "private_outputs": true,
      "provenance": [],
      "collapsed_sections": [],
      "authorship_tag": "ABX9TyOS+5Sv3Ar76pd4dIN3kaP2",
      "include_colab_link": true
    },
    "kernelspec": {
      "name": "python3",
      "display_name": "Python 3"
    },
    "language_info": {
      "name": "python"
    }
  },
  "cells": [
    {
      "cell_type": "markdown",
      "metadata": {
        "id": "view-in-github",
        "colab_type": "text"
      },
      "source": [
        "<a href=\"https://colab.research.google.com/github/ethanduncan65/NFL-Team-Analyzer/blob/main/NFL_Team_Analyzer_1_0d.ipynb\" target=\"_parent\"><img src=\"https://colab.research.google.com/assets/colab-badge.svg\" alt=\"Open In Colab\"/></a>"
      ]
    },
    {
      "cell_type": "markdown",
      "metadata": {
        "id": "j_QP5YL2WxZy"
      },
      "source": [
        "NFL Team Analyzer 1.0d - Points Earned"
      ]
    },
    {
      "cell_type": "code",
      "metadata": {
        "id": "Aak9WMbVAJo8",
        "cellView": "form"
      },
      "source": [
        "# Import dependencies & request file for upload\n",
        "from google.colab import files\n",
        "import io\n",
        "import pandas as pd\n",
        "\n",
        "\n",
        "\n",
        "uploaded = files.upload()\n",
        "# Parse out the uploaded file and convert to a pandas dataframe\n",
        "s = uploaded.keys()\n",
        "s1 = str(s)[12:]\n",
        "s2 = s1[:-3]\n",
        "df_seasonLog = pd.read_csv(io.BytesIO(uploaded[s2]))\n",
        "\n",
        "\n",
        "# remove duplicates to create list of all teams\n",
        "teams = list(set(df_seasonLog['Opp']))\n",
        "# create df for team averages\n",
        "df_ptsEarned = pd.DataFrame(columns = ['Team', 'Total Pts', 'QB Pts', 'RB Pts', 'WR Pts', 'TE Pts'],  index = range(0, len(teams)))\n",
        "\n",
        "# calculate averages for each team \n",
        "for t in range(0,len(teams)):\n",
        "  df_t_team = df_seasonLog[df_seasonLog.Team==teams[t]]\n",
        "  #t_avg_qb_pts = df_t_team['QB Pts'].mean()\n",
        "\n",
        "  df_ptsEarned.at[t, 'Team'] = teams[t]\n",
        "  # load the team averages into df_ptsEarned\n",
        "  df_ptsEarned.at[t, 'Total Pts'] = df_t_team['Total Pts'].mean() \n",
        "  df_ptsEarned.at[t, 'QB Pts'] = df_t_team['QB Pts'].mean() \n",
        "  df_ptsEarned.at[t, 'RB Pts'] = df_t_team['RB Pts'].mean() \n",
        "  df_ptsEarned.at[t, 'WR Pts'] = df_t_team['WR Pts'].mean() \n",
        "  df_ptsEarned.at[t, 'TE Pts'] = df_t_team['TE Pts'].mean()\n",
        "\n",
        "df_ptsEarned_sorted = df_ptsEarned.sort_values('Team', ascending=True)\n",
        "df_ptsEarned_sorted_ri = df_ptsEarned_sorted.reset_index()\n",
        "\n",
        "# calculate grand averages\n",
        "total_ptsEarned_avg = df_ptsEarned_sorted_ri['Total Pts'].mean() \n",
        "qb_ptsEarned_avg = df_ptsEarned_sorted_ri['QB Pts'].mean() \n",
        "rb_ptsEarned_avg = df_ptsEarned_sorted_ri['RB Pts'].mean() \n",
        "wr_ptsEarned_avg = df_ptsEarned_sorted_ri['WR Pts'].mean() \n",
        "te_ptsEarned_avg = df_ptsEarned_sorted_ri['TE Pts'].mean() \n",
        "\n",
        "\n",
        "# standardize the points ...\n",
        "df_ptsEarned_std = pd.DataFrame(columns = ['Team', 'Total Pts', 'QB Pts', 'RB Pts', 'WR Pts', 'TE Pts'],  index = range(0, len(df_ptsEarned_sorted_ri)))\n",
        "\n",
        "for k in range(0, len(df_ptsEarned_sorted_ri)):\n",
        "  # add team name\n",
        "  df_ptsEarned_std.at[k, 'Team'] = df_ptsEarned_sorted_ri.iloc[k]['Team']\n",
        "  # total points\n",
        "  total_ptsEarned_std = ((df_ptsEarned_sorted_ri.iloc[k]['Total Pts'] - total_ptsEarned_avg)/total_ptsEarned_avg)*100\n",
        "  df_ptsEarned_std.at[k, 'Total Pts'] = total_ptsEarned_std\n",
        "  # qb points\n",
        "  qb_ptsEarned_std = ((df_ptsEarned_sorted_ri.iloc[k]['QB Pts'] - qb_ptsEarned_avg)/qb_ptsEarned_avg)*100\n",
        "  df_ptsEarned_std.at[k, 'QB Pts'] = qb_ptsEarned_std\n",
        "  # rb points\n",
        "  rb_ptsEarned_std = ((df_ptsEarned_sorted_ri.iloc[k]['RB Pts'] - rb_ptsEarned_avg)/rb_ptsEarned_avg)*100\n",
        "  df_ptsEarned_std.at[k, 'RB Pts'] = rb_ptsEarned_std\n",
        "  # wr points\n",
        "  wr_ptsEarned_std = ((df_ptsEarned_sorted_ri.iloc[k]['WR Pts'] - wr_ptsEarned_avg)/wr_ptsEarned_avg)*100\n",
        "  df_ptsEarned_std.at[k, 'WR Pts'] = wr_ptsEarned_std\n",
        "  # te points\n",
        "  te_ptsEarned_std = ((df_ptsEarned_sorted_ri.iloc[k]['TE Pts'] - te_ptsEarned_avg)/te_ptsEarned_avg)*100\n",
        "  df_ptsEarned_std.at[k, 'TE Pts'] = te_ptsEarned_std\n",
        "\n",
        "# clean the df's prior to downlaod\n",
        "df_ptsEarned_final = df_ptsEarned_sorted_ri.drop(columns='index')\n",
        "\n",
        "# download the df's as .csv files\n",
        "#@title Download the data to .csv files\n",
        "Format = \"Standard\" #@param [\"Standard\", \"Half-PPR\", \"Full-PPR\"] \n",
        "df_ptsEarned_final.to_csv(Format + ' - Points Earned_raw.csv', index=False)\n",
        "df_ptsEarned_std.to_csv(Format + ' - Points Earned_std.csv', index=False)"
      ],
      "execution_count": null,
      "outputs": []
    },
    {
      "cell_type": "code",
      "metadata": {
        "id": "OOtXBVZ8XJmO"
      },
      "source": [
        "# display grand averages\n",
        "print(\"Total Points avg:   \", round(total_ptsEarned_avg, 2))\n",
        "print(\"QB Points avg:      \", round(qb_ptsEarned_avg, 2))\n",
        "print(\"RB Points avg:      \", round(rb_ptsEarned_avg, 2))\n",
        "print(\"WR Points avg:      \", round(wr_ptsEarned_avg, 2))\n",
        "print(\"TE Points avg:      \", round(te_ptsEarned_avg, 2))"
      ],
      "execution_count": null,
      "outputs": []
    }
  ]
}