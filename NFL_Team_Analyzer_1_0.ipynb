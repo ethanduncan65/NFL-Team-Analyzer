{
  "nbformat": 4,
  "nbformat_minor": 0,
  "metadata": {
    "colab": {
      "name": "NFL Team Analyzer 1.0.ipynb",
      "private_outputs": true,
      "provenance": [],
      "collapsed_sections": [],
      "authorship_tag": "ABX9TyMSgv2ZQNRg+NI7kBFS2adx",
      "include_colab_link": true
    },
    "kernelspec": {
      "name": "python3",
      "display_name": "Python 3"
    },
    "language_info": {
      "name": "python"
    }
  },
  "cells": [
    {
      "cell_type": "markdown",
      "metadata": {
        "id": "view-in-github",
        "colab_type": "text"
      },
      "source": [
        "<a href=\"https://colab.research.google.com/github/ethanduncan65/NFL-Team-Analyzer/blob/main/NFL_Team_Analyzer_1_0.ipynb\" target=\"_parent\"><img src=\"https://colab.research.google.com/assets/colab-badge.svg\" alt=\"Open In Colab\"/></a>"
      ]
    },
    {
      "cell_type": "markdown",
      "metadata": {
        "id": "fswTx3-MkP9L"
      },
      "source": [
        "Fantasy Football FLEX Production Analyzer 1.0 - Researching Capabilites of ESPN Data"
      ]
    },
    {
      "cell_type": "code",
      "metadata": {
        "id": "apxxAWvzzSQg"
      },
      "source": [
        "from bs4 import BeautifulSoup as soup  \n",
        "from urllib.request import urlopen as uReq  \n",
        "import pandas as pd\n",
        "\n",
        "numWeeks = 3"
      ],
      "execution_count": null,
      "outputs": []
    },
    {
      "cell_type": "code",
      "metadata": {
        "id": "j2wRmgwv49hq"
      },
      "source": [
        "df_player = pd.DataFrame(columns = ['Week', 'Team', 'Opp', 'Tgt', 'Rec', 'Pass Yds', 'Pass TD', 'Car', 'Rush Yds', 'Rush TD', 'Points', '% Share'],  index = range(0, numWeeks))\n",
        "\n",
        "player_page_url = 'https://www.espn.com/nfl/player/gamelog/_/id/4047650/dk-metcalf'\n",
        "# ...\n",
        "player_uClient = uReq(player_page_url)\n",
        "# ...\n",
        "player_page_soup = soup(player_uClient.read(), \"html.parser\")\n",
        "player_uClient.close()\n",
        "\n",
        "#player_stats = player_page_soup.find('tr', {'class': \"Table__TR Table__TR--sm Table__even\"})\n",
        "#player_statsX = player_page_soup.findAll('td', {'class': \"Table__TD\"})\n",
        "#player_statsX[0].get_text()\n",
        "#player_statsX[4].get_text()\n",
        "#player_statsX[36].get_text()\n",
        "\n",
        "\n",
        "\n",
        "# determine if player is RB or WR/TE\n",
        "player_stats = player_page_soup.findAll('td', {'class': \"Table__TD\"})\n",
        "player_position = player_page_soup.findAll('th', {'class': \"tc Table__TH\"})\n",
        "player_position_str = player_position[0].get_text()\n",
        "if player_position_str=='Rushing':\n",
        "  #\n",
        "  k=0\n",
        "  for r in range(0, numWeeks):\n",
        "    # add week, team, opp\n",
        "    df_player.at[r, 'Tgt'] = player_stats[9+k].get_text()\n",
        "    df_player.at[r, 'Rec'] = player_stats[8+k].get_text()\n",
        "    df_player.at[r, 'Pass Yds'] = player_stats[10+k].get_text()\n",
        "    df_player.at[r, 'Pass TD'] = player_stats[9+k].get_text()\n",
        "    df_player.at[r, 'Car'] = player_stats[3+k].get_text()\n",
        "    df_player.at[r, 'Rush Yds'] = player_stats[4+k].get_text()\n",
        "    df_player.at[r, 'Rush TD'] = player_stats[6+k].get_text()\n",
        "    k+=18\n",
        "else:\n",
        "  #\n",
        "  k=0\n",
        "  for r in range(0, numWeeks):\n",
        "    # add week, team, opp\n",
        "    df_player.at[r, 'Tgt'] = player_stats[4+k].get_text()\n",
        "    df_player.at[r, 'Rec'] = player_stats[3+k].get_text()\n",
        "    df_player.at[r, 'Pass Yds'] = player_stats[5+k].get_text()\n",
        "    df_player.at[r, 'Pass TD'] = player_stats[7+k].get_text()\n",
        "    df_player.at[r, 'Car'] = player_stats[9+k].get_text()\n",
        "    df_player.at[r, 'Rush Yds'] = player_stats[10+k].get_text()\n",
        "    df_player.at[r, 'Rush TD'] = player_stats[13+k].get_text()\n",
        "    k+=18\n",
        "\n",
        "# reverse order of df_player to align with format of df's below"
      ],
      "execution_count": null,
      "outputs": []
    },
    {
      "cell_type": "code",
      "metadata": {
        "id": "qJ7vXpdWHkcp"
      },
      "source": [
        "Team = \"Seattle Seahawks\" #@param [\"Seattle Seahawks\", \"San Francisco 49ers\"]\n",
        "vsTeam = \"San Francisco 49ers\" #@param [\"Seattle Seahawks\", \"San Francisco 49ers\"]\n",
        "Format = \"Standard\" #@param [\"Standard\", \"Half-PPR\", \"Full-PPR\"]\n",
        "team_sched_dict = {\"Seattle Seahawks\": [401326318, 401326360, 401326376],\n",
        "                   \"San Francisco 49ers\": [401326317, 401326355, 401326377]}\n",
        "game_ids = team_sched_dict.get(Team)\n",
        "vs_game_ids = team_sched_dict.get(vsTeam)\n",
        "\n",
        "team_name_dict = {\"Seattle Seahawks\": 'SEA',\n",
        "                  \"San Francisco 49ers\": 'SF'}\n",
        "team_abbrev = team_name_dict.get(Team)\n",
        "vs_team_abbrev = team_name_dict.get(vsTeam)"
      ],
      "execution_count": null,
      "outputs": []
    },
    {
      "cell_type": "code",
      "metadata": {
        "id": "uA7hnGo-I05D"
      },
      "source": [
        "df = pd.DataFrame(columns = ['Week', 'Team', 'Opp', 'Tgt', 'Rec', 'Pass Yds', 'Pass TD', 'Car', 'Rush Yds', 'Rush TD', 'Points'],  index = range(0, numWeeks))\n",
        "\n",
        "for i in range(0, numWeeks):\n",
        "  page_url = 'https://www.espn.com/nfl/boxscore/_/gameId/' + str(game_ids[i]) + ''\n",
        "  # ...\n",
        "  uClient = uReq(page_url)\n",
        "  # ...\n",
        "  page_soup = soup(uClient.read(), \"html.parser\")\n",
        "  uClient.close()\n",
        "\n",
        "  df.at[i, 'Week'] = i+1\n",
        "\n",
        "  # get team name\n",
        "  away_team = page_soup.find('div', {'class': \"team away\"})\n",
        "  away_team_name = away_team.find('span', {'class': \"abbrev\"})\n",
        "  away_team_name_str = away_team_name.get_text()\n",
        "\n",
        "  # get home name\n",
        "  home_team = page_soup.find('div', {'class': \"team home\"})\n",
        "  home_team_name = home_team.find('span', {'class': \"abbrev\"})\n",
        "  home_team_name_str = home_team_name.get_text()\n",
        "\n",
        "  # determine if team is home or away \n",
        "  is_home_team = (team_abbrev==home_team_name_str)\n",
        "\n",
        "  # scrape away or home team data based on if team is away or home\n",
        "  if is_home_team:\n",
        "    # add Team and Opp to df\n",
        "    df.at[i, 'Team'] = home_team_name_str\n",
        "    df.at[i, 'Opp'] = away_team_name_str\n",
        "    # add Tgt, Rec, Yds, and TD to df\n",
        "    away_boxscore_div = page_soup.findAll('div', {'class': \"col column-two gamepackage-home-wrap\"})\n",
        "    pass_data = away_boxscore_div[2].find('tr', {'class': \"highlight\"})\n",
        "    df.at[i, 'Tgt'] = pass_data.find('td', {'class': \"tgts\"}).get_text()\n",
        "    df.at[i, 'Rec'] = pass_data.find('td', {'class': \"rec\"}).get_text()\n",
        "    df.at[i, 'Pass Yds'] = pass_data.find('td', {'class': \"yds\"}).get_text()\n",
        "    df.at[i, 'Pass TD'] = pass_data.find('td', {'class': \"td\"}).get_text()\n",
        "    rush_data = away_boxscore_div[1].find('tr', {'class': \"highlight\"})\n",
        "    df.at[i, 'Car'] = rush_data.find('td', {'class': \"car\"}).get_text()\n",
        "    df.at[i, 'Rush Yds'] = rush_data.find('td', {'class': \"yds\"}).get_text()\n",
        "    df.at[i, 'Rush TD'] = rush_data.find('td', {'class': \"td\"}).get_text()\n",
        "\n",
        "  else:\n",
        "    # add Team and Opp to df\n",
        "    df.at[i, 'Team'] = away_team_name_str\n",
        "    df.at[i, 'Opp'] = home_team_name_str\n",
        "    # add Tgt, Rec, Yds, and TD to df\n",
        "    away_boxscore_div = page_soup.findAll('div', {'class': \"col column-one gamepackage-away-wrap\"})\n",
        "    pass_data = away_boxscore_div[2].find('tr', {'class': \"highlight\"})\n",
        "    df.at[i, 'Tgt'] = pass_data.find('td', {'class': \"tgts\"}).get_text()\n",
        "    df.at[i, 'Rec'] = pass_data.find('td', {'class': \"rec\"}).get_text()\n",
        "    df.at[i, 'Pass Yds'] = pass_data.find('td', {'class': \"yds\"}).get_text()\n",
        "    df.at[i, 'Pass TD'] = pass_data.find('td', {'class': \"td\"}).get_text()\n",
        "    rush_data = away_boxscore_div[1].find('tr', {'class': \"highlight\"})\n",
        "    df.at[i, 'Car'] = rush_data.find('td', {'class': \"car\"}).get_text()\n",
        "    df.at[i, 'Rush Yds'] = rush_data.find('td', {'class': \"yds\"}).get_text()\n",
        "    df.at[i, 'Rush TD'] = rush_data.find('td', {'class': \"td\"}).get_text()\n",
        "\n",
        "\n"
      ],
      "execution_count": null,
      "outputs": []
    },
    {
      "cell_type": "code",
      "metadata": {
        "id": "iXJJs-0zWoqb"
      },
      "source": [
        "df2 = pd.DataFrame(columns = ['Week', 'Team', 'Opp', 'Tgt', 'Rec', 'Pass Yds', 'Pass TD', 'Car', 'Rush Yds', 'Rush TD', 'Points'],  index = range(0, numWeeks))\n",
        "\n",
        "for i in range(0, numWeeks):\n",
        "  vs_page_url = 'https://www.espn.com/nfl/boxscore/_/gameId/' + str(vs_game_ids[i]) + ''\n",
        "  # ...\n",
        "  vs_uClient = uReq(vs_page_url)\n",
        "  # ...\n",
        "  vs_page_soup = soup(vs_uClient.read(), \"html.parser\")\n",
        "  vs_uClient.close()\n",
        "\n",
        "  df2.at[i, 'Week'] = i+1\n",
        "\n",
        "  # get team name\n",
        "  away_team = vs_page_soup.find('div', {'class': \"team away\"})\n",
        "  away_team_name = away_team.find('span', {'class': \"abbrev\"})\n",
        "  away_team_name_str = away_team_name.get_text()\n",
        "\n",
        "  # get home name\n",
        "  home_team = vs_page_soup.find('div', {'class': \"team home\"})\n",
        "  home_team_name = home_team.find('span', {'class': \"abbrev\"})\n",
        "  home_team_name_str = home_team_name.get_text()\n",
        "\n",
        "  # determine if team is home or away \n",
        "  is_home_team = (vs_team_abbrev!=home_team_name_str)\n",
        "\n",
        "  # scrape away or home team data based on if team is away or home\n",
        "  if is_home_team:\n",
        "    # add Team and Opp to df\n",
        "    df2.at[i, 'Team'] = home_team_name_str\n",
        "    df2.at[i, 'Opp'] = away_team_name_str\n",
        "    # add Tgt, Rec, Yds, and TD to df\n",
        "    away_boxscore_div = vs_page_soup.findAll('div', {'class': \"col column-two gamepackage-home-wrap\"})\n",
        "    pass_data = away_boxscore_div[2].find('tr', {'class': \"highlight\"})\n",
        "    df2.at[i, 'Tgt'] = pass_data.find('td', {'class': \"tgts\"}).get_text()\n",
        "    df2.at[i, 'Rec'] = pass_data.find('td', {'class': \"rec\"}).get_text()\n",
        "    df2.at[i, 'Pass Yds'] = pass_data.find('td', {'class': \"yds\"}).get_text()\n",
        "    df2.at[i, 'Pass TD'] = pass_data.find('td', {'class': \"td\"}).get_text()\n",
        "    rush_data = away_boxscore_div[1].find('tr', {'class': \"highlight\"})\n",
        "    df2.at[i, 'Car'] = rush_data.find('td', {'class': \"car\"}).get_text()\n",
        "    df2.at[i, 'Rush Yds'] = rush_data.find('td', {'class': \"yds\"}).get_text()\n",
        "    df2.at[i, 'Rush TD'] = rush_data.find('td', {'class': \"td\"}).get_text()\n",
        "\n",
        "\n",
        "  else:\n",
        "    # add Opp to df\n",
        "    df2.at[i, 'Team'] = away_team_name_str\n",
        "    df2.at[i, 'Opp'] = home_team_name_str\n",
        "    # add Tgt, Rec, Yds, and TD to df\n",
        "    away_boxscore_div = vs_page_soup.findAll('div', {'class': \"col column-one gamepackage-away-wrap\"})\n",
        "    pass_data = away_boxscore_div[2].find('tr', {'class': \"highlight\"})\n",
        "    df2.at[i, 'Tgt'] = pass_data.find('td', {'class': \"tgts\"}).get_text()\n",
        "    df2.at[i, 'Rec'] = pass_data.find('td', {'class': \"rec\"}).get_text()\n",
        "    df2.at[i, 'Pass Yds'] = pass_data.find('td', {'class': \"yds\"}).get_text()\n",
        "    df2.at[i, 'Pass TD'] = pass_data.find('td', {'class': \"td\"}).get_text()\n",
        "    rush_data = away_boxscore_div[1].find('tr', {'class': \"highlight\"})\n",
        "    df2.at[i, 'Car'] = rush_data.find('td', {'class': \"car\"}).get_text()\n",
        "    df2.at[i, 'Rush Yds'] = rush_data.find('td', {'class': \"yds\"}).get_text()\n",
        "    df2.at[i, 'Rush TD'] = rush_data.find('td', {'class': \"td\"}).get_text()"
      ],
      "execution_count": null,
      "outputs": []
    },
    {
      "cell_type": "code",
      "metadata": {
        "id": "2bI2Duabddkt"
      },
      "source": [
        "df"
      ],
      "execution_count": null,
      "outputs": []
    },
    {
      "cell_type": "code",
      "metadata": {
        "id": "AmOFxx6iRD-F"
      },
      "source": [
        "df2"
      ],
      "execution_count": null,
      "outputs": []
    },
    {
      "cell_type": "code",
      "metadata": {
        "id": "ppgqaK_g4ArA"
      },
      "source": [
        "# div containing the entire boxscore passing section\n",
        "boxscore_div = page_soup.find('div', {'class': \"gamepackage-passing\"})\n",
        "\n"
      ],
      "execution_count": null,
      "outputs": []
    },
    {
      "cell_type": "code",
      "metadata": {
        "id": "pcrwIsYu4r7n"
      },
      "source": [
        "# div containing the entire boxscore passing section\n",
        "pass_boxscore_div = page_soup.find('div', {'class': \"gamepackage-passing\"})\n",
        "pass_boxscore_div.find('td', {'class': \"c-att\"})\n",
        "\n",
        "# away team boxscore passing section\n",
        "away_boxscore_div = page_soup.findAll('div', {'class': \"col column-one gamepackage-away-wrap\"})\n",
        "pass_data = away_boxscore_div[1].find('tr', {'class': \"highlight\"})\n",
        "passRatio = pass_data.find('td', {'class': \"car\"}).get_text()\n",
        "\n",
        "passRatio.split('/')[1]"
      ],
      "execution_count": null,
      "outputs": []
    },
    {
      "cell_type": "code",
      "metadata": {
        "id": "pSPvnXgO7QCn"
      },
      "source": [
        ""
      ],
      "execution_count": null,
      "outputs": []
    },
    {
      "cell_type": "code",
      "metadata": {
        "id": "1PI_iSgR6n59"
      },
      "source": [
        "# get comp/att for away QB\n",
        "test_div = page_soup.find('td', {'class': \"team-name\"})\n",
        "test_div.get_text()"
      ],
      "execution_count": null,
      "outputs": []
    },
    {
      "cell_type": "code",
      "metadata": {
        "id": "p-vZcG7f7UY4"
      },
      "source": [
        ""
      ],
      "execution_count": null,
      "outputs": []
    }
  ]
}